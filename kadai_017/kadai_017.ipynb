{
  "nbformat": 4,
  "nbformat_minor": 0,
  "metadata": {
    "colab": {
      "provenance": []
    },
    "kernelspec": {
      "name": "python3",
      "display_name": "Python 3"
    },
    "language_info": {
      "name": "python"
    }
  },
  "cells": [
    {
      "cell_type": "code",
      "source": [
        "class Human:\n",
        "    def __init__(self, name, age):  # 関数、変数のスコープ、クラスの活用\n",
        "        self.name = name\n",
        "        self.age = age\n",
        "\n",
        "    def check_adult(self):  # 関数、条件分岐の活用\n",
        "        if self.age >= 20:\n",
        "            print(f\"{self.name}は大人である\")\n",
        "        else:\n",
        "            print(f\"{self.name}は大人ではない\")\n",
        "\n",
        "# インスタンスをリストに格納（リストの活用）\n",
        "humans = [\n",
        "    Human(\"侍太郎\", 25),\n",
        "    Human(\"侍花子\", 18),\n",
        "    Human(\"侍次郎\", 20),\n",
        "    Human(\"侍三郎\", 15)\n",
        "]\n",
        "for human in humans:\n",
        "    human.check_adult()\n"
      ],
      "metadata": {
        "colab": {
          "base_uri": "https://localhost:8080/"
        },
        "id": "yRLkPLPfzbcx",
        "outputId": "ae796df8-819f-4d5a-8bfa-9df2d28555a9"
      },
      "execution_count": 4,
      "outputs": [
        {
          "output_type": "stream",
          "name": "stdout",
          "text": [
            "侍太郎は大人である\n",
            "侍花子は大人ではない\n",
            "侍次郎は大人である\n",
            "侍三郎は大人ではない\n"
          ]
        }
      ]
    }
  ]
}