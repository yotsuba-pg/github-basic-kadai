{
  "cells": [
    {
      "cell_type": "code",
      "execution_count": 18,
      "metadata": {
        "colab": {
          "base_uri": "https://localhost:8080/"
        },
        "id": "xX8Z03q7IrOa",
        "outputId": "b9b22868-005e-404e-a7b3-5d73f9d68e0a"
      },
      "outputs": [
        {
          "name": "stdout",
          "output_type": "stream",
          "text": [
            "75.0㎠\n"
          ]
        }
      ],
      "source": [
        "number1 = 10\n",
        "number2 = 20\n",
        "number3 = 5\n",
        "number4 = (number1+number2)*number3/2\n",
        "print(str(number4)+\"㎠\")"
      ]
    }
  ],
  "metadata": {
    "accelerator": "GPU",
    "colab": {
      "gpuType": "T4",
      "provenance": []
    },
    "kernelspec": {
      "display_name": "Python 3",
      "name": "python3"
    },
    "language_info": {
      "name": "python"
    }
  },
  "nbformat": 4,
  "nbformat_minor": 0
}
