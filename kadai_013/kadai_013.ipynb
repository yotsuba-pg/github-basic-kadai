{
  "nbformat": 4,
  "nbformat_minor": 0,
  "metadata": {
    "colab": {
      "provenance": []
    },
    "kernelspec": {
      "name": "python3",
      "display_name": "Python 3"
    },
    "language_info": {
      "name": "python"
    }
  },
  "cells": [
    {
      "cell_type": "code",
      "source": [
        "def calculate_total(pricef,tax):\n",
        "    total_price = price + (price * tax / 100)\n",
        "    return total_price\n",
        "price = 110 #商品の金額\n",
        "tax = 10 #消費税10%_\n",
        "total_price = calculate_total(price,tax)\n",
        "\n",
        "print(total_price)"
      ],
      "metadata": {
        "colab": {
          "base_uri": "https://localhost:8080/"
        },
        "id": "YDM2fx903tAi",
        "outputId": "86976c20-92d4-44b4-d696-f2437e21a75e"
      },
      "execution_count": 1,
      "outputs": [
        {
          "output_type": "stream",
          "name": "stdout",
          "text": [
            "121.0\n"
          ]
        }
      ]
    }
  ]
}