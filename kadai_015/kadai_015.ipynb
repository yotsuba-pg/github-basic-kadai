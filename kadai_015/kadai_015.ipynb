{
  "nbformat": 4,
  "nbformat_minor": 0,
  "metadata": {
    "colab": {
      "provenance": []
    },
    "kernelspec": {
      "name": "python3",
      "display_name": "Python 3"
    },
    "language_info": {
      "name": "python"
    }
  },
  "cells": [
    {
      "cell_type": "code",
      "source": [
        "class Human:\n",
        "    def __init__(self, name ,age):\n",
        "        self.name = name\n",
        "        self.age = age\n",
        "printinfo = Human(\"侍太郎\", 36)\n",
        "print(printinfo.name)\n",
        "print(printinfo.age)"
      ],
      "metadata": {
        "id": "Dm8Ld5g-ii9o",
        "outputId": "d82ef8cd-6f15-4637-c49c-fa973e8fd944",
        "colab": {
          "base_uri": "https://localhost:8080/"
        }
      },
      "execution_count": 2,
      "outputs": [
        {
          "output_type": "stream",
          "name": "stdout",
          "text": [
            "侍太郎\n",
            "36\n"
          ]
        }
      ]
    }
  ]
}